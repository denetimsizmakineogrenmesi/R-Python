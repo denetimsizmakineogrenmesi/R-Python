{
 "cells": [
  {
   "cell_type": "code",
   "execution_count": null,
   "id": "53a6fee6-8deb-4a7e-b3ff-f51ff2780669",
   "metadata": {},
   "outputs": [],
   "source": [
    "!pip install pandas matplotlib numpy scikit-learn seaborn scikit-fuzzy openpyxl"
   ]
  },
  {
   "cell_type": "code",
   "execution_count": 1,
   "id": "be3c18ad-81e3-4ea8-910d-956e7aac8906",
   "metadata": {
    "tags": []
   },
   "outputs": [],
   "source": [
    "# Gerekli kütüphaneleri dahil et\n",
    "import pandas as pd\n",
    "import matplotlib.pyplot as plt\n",
    "import numpy as np\n",
    "from sklearn.preprocessing import MinMaxScaler\n",
    "import seaborn as sns\n",
    "import skfuzzy as fuzz\n",
    "from sklearn.metrics import silhouette_score, calinski_harabasz_score,davies_bouldin_score\n",
    "import random"
   ]
  },
  {
   "cell_type": "code",
   "execution_count": 2,
   "id": "68e14fbd-cc1f-4676-8fe5-5b192008f196",
   "metadata": {
    "tags": []
   },
   "outputs": [],
   "source": [
    "# XLS dosyasını oku\n",
    "df = pd.read_excel('sku_data.xlsx')"
   ]
  },
  {
   "cell_type": "code",
   "execution_count": 3,
   "id": "334b1385-998c-43b9-9f57-497bf9a89743",
   "metadata": {
    "tags": []
   },
   "outputs": [
    {
     "name": "stdout",
     "output_type": "stream",
     "text": [
      "<class 'pandas.core.frame.DataFrame'>\n",
      "RangeIndex: 2279 entries, 0 to 2278\n",
      "Data columns (total 8 columns):\n",
      " #   Column           Non-Null Count  Dtype  \n",
      "---  ------           --------------  -----  \n",
      " 0   ID               2279 non-null   int64  \n",
      " 1   Unitprice        2279 non-null   float64\n",
      " 2   Expire date      2279 non-null   int64  \n",
      " 3   Outbound number  2279 non-null   int64  \n",
      " 4   Total outbound   2279 non-null   float64\n",
      " 5   Pal grossweight  2279 non-null   float64\n",
      " 6   Pal height       2279 non-null   float64\n",
      " 7   Units per pal    2279 non-null   int64  \n",
      "dtypes: float64(4), int64(4)\n",
      "memory usage: 142.6 KB\n",
      "None\n"
     ]
    }
   ],
   "source": [
    "# Veri hakkında genel bilgileri göster\n",
    "print(df.info())"
   ]
  },
  {
   "cell_type": "code",
   "execution_count": 4,
   "id": "b3d456a7-547e-4042-9f81-c494b7a3a2ee",
   "metadata": {
    "tags": []
   },
   "outputs": [
    {
     "name": "stdout",
     "output_type": "stream",
     "text": [
      "   ID  Unitprice  Expire date  Outbound number  Total outbound  \\\n",
      "0   1      0.058          547                9          2441.0   \n",
      "1   2      0.954          547                0             0.0   \n",
      "2   3      2.385          547               12            23.0   \n",
      "\n",
      "   Pal grossweight  Pal height  Units per pal  \n",
      "0           105.60        1.56           1920  \n",
      "1           207.68        1.00            384  \n",
      "2           165.78        1.02            108  \n"
     ]
    }
   ],
   "source": [
    "# İlk 3 satırı göster\n",
    "print(df.head(3))"
   ]
  },
  {
   "cell_type": "code",
   "execution_count": 5,
   "id": "70165497-6e0f-4056-8f12-6e40c0f003d2",
   "metadata": {
    "tags": []
   },
   "outputs": [
    {
     "name": "stdout",
     "output_type": "stream",
     "text": [
      "                ID    Unitprice  Expire date  Outbound number  Total outbound  \\\n",
      "count  2279.000000  2279.000000  2279.000000      2279.000000     2279.000000   \n",
      "mean   1140.000000     4.269402   410.371654       235.976305      731.701053   \n",
      "std     658.034953    14.449000   240.875419       700.230685     2146.029848   \n",
      "min       1.000000     0.000000     0.000000         0.000000        0.000000   \n",
      "25%     570.500000     0.000000   365.000000         0.000000        0.000000   \n",
      "50%    1140.000000     1.293800   547.000000         1.000000        3.000000   \n",
      "75%    1709.500000     4.545000   547.000000        45.000000      419.500000   \n",
      "max    2279.000000   518.592000   734.000000      6325.000000    26411.000000   \n",
      "\n",
      "       Pal grossweight   Pal height  Units per pal  \n",
      "count      2279.000000  2279.000000    2279.000000  \n",
      "mean        192.939582     0.672798     755.563405  \n",
      "std         164.616813     0.552117    6278.437915  \n",
      "min           0.000000     0.000000       0.000000  \n",
      "25%          60.000000     0.000000      32.000000  \n",
      "50%         167.680000     0.840000     108.000000  \n",
      "75%         277.560000     1.020000     384.000000  \n",
      "max         907.200000     2.160000  200000.000000  \n"
     ]
    }
   ],
   "source": [
    "# Veri setindeki sayısal sütunların istatistiksel özetini al\n",
    "print(df.describe())"
   ]
  },
  {
   "cell_type": "code",
   "execution_count": 6,
   "id": "84a64bb1-0c80-4c65-855b-044252f3b22b",
   "metadata": {
    "tags": []
   },
   "outputs": [],
   "source": [
    "# 'ID' niteliğini çıkar\n",
    "df = df.drop('ID', axis=1)"
   ]
  },
  {
   "cell_type": "code",
   "execution_count": 7,
   "id": "35d2f5d8-5d6d-44d1-96df-67667808c410",
   "metadata": {
    "tags": []
   },
   "outputs": [],
   "source": [
    "# Bağımsız bir kopya oluştur\n",
    "df_backup = df.copy()"
   ]
  },
  {
   "cell_type": "code",
   "execution_count": 8,
   "id": "afd5ea3c-112a-4e81-bfbd-4a41542e3c38",
   "metadata": {
    "tags": []
   },
   "outputs": [
    {
     "name": "stdout",
     "output_type": "stream",
     "text": [
      "<class 'pandas.core.frame.DataFrame'>\n",
      "RangeIndex: 2279 entries, 0 to 2278\n",
      "Data columns (total 7 columns):\n",
      " #   Column           Non-Null Count  Dtype  \n",
      "---  ------           --------------  -----  \n",
      " 0   Unitprice        2279 non-null   float64\n",
      " 1   Expire date      2279 non-null   float64\n",
      " 2   Outbound number  2279 non-null   float64\n",
      " 3   Total outbound   2279 non-null   float64\n",
      " 4   Pal grossweight  2279 non-null   float64\n",
      " 5   Pal height       2279 non-null   float64\n",
      " 6   Units per pal    2279 non-null   float64\n",
      "dtypes: float64(7)\n",
      "memory usage: 124.8 KB\n",
      "None\n"
     ]
    }
   ],
   "source": [
    "# Sütun bazında normalize etme\n",
    "scaler = MinMaxScaler()\n",
    "df_nor = pd.DataFrame(scaler.fit_transform(df), columns=df.columns, index=df.index)\n",
    "\n",
    "# Normalize edilmiş veri hakkında genel bilgileri göster\n",
    "print(df_nor.info())"
   ]
  },
  {
   "cell_type": "code",
   "execution_count": 9,
   "id": "376e1a61-42f9-4eaf-8a32-62965c3ab53a",
   "metadata": {
    "tags": []
   },
   "outputs": [],
   "source": [
    "# Bağımsız bir kopya oluştur\n",
    "df_backup_nor = df_nor.copy()"
   ]
  },
  {
   "cell_type": "code",
   "execution_count": 10,
   "id": "5f03dcd2-5000-4fb1-9897-f5f6677c06f5",
   "metadata": {
    "tags": []
   },
   "outputs": [],
   "source": [
    "df = df_nor"
   ]
  },
  {
   "cell_type": "code",
   "execution_count": 11,
   "id": "651d2456-d236-4388-b702-3445edd0ea6a",
   "metadata": {
    "tags": []
   },
   "outputs": [
    {
     "name": "stdout",
     "output_type": "stream",
     "text": [
      "Silhouette Indeksi: 0.49629093955048886\n",
      "Calinski-Harabasz Indeksi: 1942.5943509044173\n",
      "Davies-Bouldin Indeksi: 0.7931659491669967\n",
      "------------------------------------ 2\n",
      "Silhouette Indeksi: 0.5122684428770979\n",
      "Calinski-Harabasz Indeksi: 2162.800619211801\n",
      "Davies-Bouldin Indeksi: 0.7542144605344291\n",
      "------------------------------------ 3\n",
      "Silhouette Indeksi: 0.5411899069079208\n",
      "Calinski-Harabasz Indeksi: 2012.1976546050846\n",
      "Davies-Bouldin Indeksi: 0.7291079082962212\n",
      "------------------------------------ 4\n",
      "Silhouette Indeksi: 0.47268179304124047\n",
      "Calinski-Harabasz Indeksi: 1846.6269962796307\n",
      "Davies-Bouldin Indeksi: 0.9160824755992751\n",
      "------------------------------------ 5\n",
      "Silhouette Indeksi: 0.38763344193370597\n",
      "Calinski-Harabasz Indeksi: 1514.891284251281\n",
      "Davies-Bouldin Indeksi: 1.12598014705683\n",
      "------------------------------------ 6\n",
      "Silhouette Indeksi: 0.43740449493392447\n",
      "Calinski-Harabasz Indeksi: 1734.0346545349082\n",
      "Davies-Bouldin Indeksi: 0.9975372227125068\n",
      "------------------------------------ 7\n",
      "Silhouette Indeksi: 0.3880012216014118\n",
      "Calinski-Harabasz Indeksi: 1742.8377159343663\n",
      "Davies-Bouldin Indeksi: 0.9991182338698619\n",
      "------------------------------------ 8\n",
      "Silhouette Indeksi: 0.31091195903678964\n",
      "Calinski-Harabasz Indeksi: 1471.8278779047287\n",
      "Davies-Bouldin Indeksi: 1.0824101132706583\n",
      "------------------------------------ 9\n",
      "Silhouette Indeksi: 0.35131156990214335\n",
      "Calinski-Harabasz Indeksi: 1576.3766045702325\n",
      "Davies-Bouldin Indeksi: 1.1106359943252146\n",
      "------------------------------------ 10\n",
      "Silhouette Indeksi: 0.34231640482994286\n",
      "Calinski-Harabasz Indeksi: 1466.3504852969227\n",
      "Davies-Bouldin Indeksi: 1.0281684776599607\n",
      "------------------------------------ 11\n",
      "Silhouette Indeksi: 0.31018923432523754\n",
      "Calinski-Harabasz Indeksi: 1469.0165862607337\n",
      "Davies-Bouldin Indeksi: 1.1124456939099352\n",
      "------------------------------------ 12\n",
      "Silhouette Indeksi: 0.3076256903195156\n",
      "Calinski-Harabasz Indeksi: 1439.6468999387753\n",
      "Davies-Bouldin Indeksi: 1.083613926610787\n",
      "------------------------------------ 13\n",
      "Silhouette Indeksi: 0.3144012013086998\n",
      "Calinski-Harabasz Indeksi: 1413.7666434825542\n",
      "Davies-Bouldin Indeksi: 1.0732255195046816\n",
      "------------------------------------ 14\n",
      "Silhouette Indeksi: 0.3820430232025832\n",
      "Calinski-Harabasz Indeksi: 1380.1047904198936\n",
      "Davies-Bouldin Indeksi: 0.9987010184989138\n",
      "------------------------------------ 15\n",
      "Silhouette Indeksi: 0.2569808493336942\n",
      "Calinski-Harabasz Indeksi: 1193.1082803029278\n",
      "Davies-Bouldin Indeksi: 1.252307876367578\n",
      "------------------------------------ 16\n",
      "Silhouette Indeksi: 0.2490808503702996\n",
      "Calinski-Harabasz Indeksi: 1131.0303862721062\n",
      "Davies-Bouldin Indeksi: 1.2894103360608644\n",
      "------------------------------------ 17\n",
      "Silhouette Indeksi: 0.42014725233556566\n",
      "Calinski-Harabasz Indeksi: 1538.8884751169537\n",
      "Davies-Bouldin Indeksi: 0.9382859004498325\n",
      "------------------------------------ 18\n",
      "Silhouette Indeksi: 0.42807686930947114\n",
      "Calinski-Harabasz Indeksi: 1514.6817182821828\n",
      "Davies-Bouldin Indeksi: 0.948564993891165\n",
      "------------------------------------ 19\n",
      "Silhouette Indeksi: 0.47187598439852074\n",
      "Calinski-Harabasz Indeksi: 1536.8203893381308\n",
      "Davies-Bouldin Indeksi: 0.8242370042653073\n",
      "------------------------------------ 20\n"
     ]
    }
   ],
   "source": [
    "# Verileri numpy dizisine dönüştürme\n",
    "veri = df.values\n",
    "\n",
    "# Küme sayıları aralığı\n",
    "k_range = range(2, 21)\n",
    "\n",
    "# İndeks değerlerini saklamak için boş listeler\n",
    "silhouette_skorlari = []\n",
    "ch_skorlari = []\n",
    "db_skorlari = []\n",
    "\n",
    "# Her bir küme sayısı için indeks hesaplama ve grafik oluşturma\n",
    "for i, k in enumerate(k_range):\n",
    "    # Fuzzy C-means uygulama\n",
    "    random.seed(10)\n",
    "    cntr, u, _, _, _, _, _ = fuzz.cluster.cmeans(veri.T, c=k, m=2, error=0.005, maxiter=1000)\n",
    "\n",
    "    # Her bir veri noktası için tahmin edilen küme indekslerini belirleme\n",
    "    kume_uyelikleri = np.argmax(u, axis=0)\n",
    "\n",
    "    # Silhouette indeksini hesapla\n",
    "    silhouette_ort = silhouette_score(veri, kume_uyelikleri)\n",
    "    silhouette_skorlari.append(silhouette_ort)\n",
    "\n",
    "    # Calinski-Harabasz indeksini hesapla\n",
    "    ch_skoru = calinski_harabasz_score(veri, kume_uyelikleri)\n",
    "    ch_skorlari.append(ch_skoru)\n",
    "\n",
    "    # Davies-Bouldin indeksini hesapla\n",
    "    db_indeksi = davies_bouldin_score(veri, kume_uyelikleri)\n",
    "    db_skorlari.append(db_indeksi)\n",
    "\n",
    "    # Indeks değerlerini ekrana yazdır\n",
    "    print(\"Silhouette Indeksi:\", silhouette_ort)\n",
    "    print(\"Calinski-Harabasz Indeksi:\", ch_skoru)\n",
    "    print(\"Davies-Bouldin Indeksi:\", db_indeksi)\n",
    "    print(\"------------------------------------\", k)\n",
    "\n",
    "\n"
   ]
  },
  {
   "cell_type": "code",
   "execution_count": 15,
   "id": "f0c50b58-e3d3-408a-bb06-85b2935f8a8a",
   "metadata": {
    "tags": []
   },
   "outputs": [
    {
     "name": "stdout",
     "output_type": "stream",
     "text": [
      "      Unitprice  Expire date  Outbound number  Total outbound  \\\n",
      "0      0.000112     0.745232         0.001423        0.092424   \n",
      "1      0.001840     0.745232         0.000000        0.000000   \n",
      "2      0.004599     0.745232         0.001897        0.000871   \n",
      "3      0.009834     0.745232         0.000000        0.000000   \n",
      "4      0.000000     0.745232         0.000000        0.000000   \n",
      "...         ...          ...              ...             ...   \n",
      "2274   0.000000     0.000000         0.000000        0.000000   \n",
      "2275   0.000000     0.000000         0.000158        0.000038   \n",
      "2276   0.000000     0.000000         0.000000        0.000000   \n",
      "2277   0.000000     0.000000         0.000158        0.000038   \n",
      "2278   0.000000     0.745232         0.012016        0.059445   \n",
      "\n",
      "      Pal grossweight  Pal height  Units per pal  Cluster  \n",
      "0            0.116402    0.722222       0.009600        2  \n",
      "1            0.228924    0.462963       0.001920        2  \n",
      "2            0.182738    0.472222       0.000540        2  \n",
      "3            0.243651    0.486111       0.000360        2  \n",
      "4            0.000000    0.000000       0.000000        1  \n",
      "...               ...         ...            ...      ...  \n",
      "2274         0.002976    0.000000       0.000050        3  \n",
      "2275         0.010560    0.000000       0.000005        3  \n",
      "2276         0.042284    0.000000       0.000020        3  \n",
      "2277         0.027679    0.000000       0.000015        3  \n",
      "2278         0.116402    0.000000       0.009600        1  \n",
      "\n",
      "[2279 rows x 8 columns]\n"
     ]
    }
   ],
   "source": [
    "# Verileri numpy dizisine dönüştürme\n",
    "df2 = df.copy()\n",
    "veri = df2.values\n",
    "\n",
    "# Fuzzy C-means uygulama\n",
    "random.seed(10)\n",
    "cntr, u, _, _, _, _, _ = fuzz.cluster.cmeans(veri.T, c=4, m=2, error=0.005, maxiter=1000)\n",
    "\n",
    "# Her bir veri noktası için tahmin edilen küme indekslerini belirleme\n",
    "kume_uyelikleri = np.argmax(u, axis=0)\n",
    "\n",
    "# Sonuçları atama\n",
    "df2['Cluster'] = kume_uyelikleri\n",
    "print(df2)"
   ]
  },
  {
   "cell_type": "code",
   "execution_count": null,
   "id": "9eb73d35-292a-4999-9f90-f9197e81ae3d",
   "metadata": {},
   "outputs": [],
   "source": []
  }
 ],
 "metadata": {
  "kernelspec": {
   "display_name": "default:Python",
   "language": "python",
   "name": "conda-env-default-py"
  },
  "language_info": {
   "codemirror_mode": {
    "name": "ipython",
    "version": 3
   },
   "file_extension": ".py",
   "mimetype": "text/x-python",
   "name": "python",
   "nbconvert_exporter": "python",
   "pygments_lexer": "ipython3",
   "version": "3.9.16"
  }
 },
 "nbformat": 4,
 "nbformat_minor": 5
}
