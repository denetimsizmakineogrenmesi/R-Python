{
 "cells": [
  {
   "cell_type": "markdown",
   "id": "19832660",
   "metadata": {},
   "source": [
    "# Genetik Algoritma"
   ]
  },
  {
   "cell_type": "markdown",
   "id": "23b55a0b",
   "metadata": {},
   "source": [
    "## Kütüphanelerin Tanımlanması"
   ]
  },
  {
   "cell_type": "code",
   "execution_count": 1,
   "id": "db40df27",
   "metadata": {},
   "outputs": [],
   "source": [
    "import numpy as np\n",
    "import random\n",
    "import pandas as pd\n",
    "import matplotlib.pyplot as plt"
   ]
  },
  {
   "cell_type": "markdown",
   "id": "ca39df24",
   "metadata": {},
   "source": [
    "## Veri Okuma ve Veri Hazırlama"
   ]
  },
  {
   "cell_type": "code",
   "execution_count": 2,
   "id": "bb2778b9",
   "metadata": {},
   "outputs": [],
   "source": [
    "veri = pd.DataFrame({'Malzeme': ['İsviçre Çakısı',\n",
    "                                'El Feneri', \n",
    "                                'Pusula', \n",
    "                                'Su Arıtma Cihazı', \n",
    "                                'Paracord', \n",
    "                                'İlk Yardım Kiti', \n",
    "                                'Uyku Tulumu', \n",
    "                                'Çadır', \n",
    "                                'Harita', \n",
    "                                'Çakmak'],\n",
    "                    'Ağırlık': [0.2, 0.3, 0.1, 0.5, 0.4, 0.3, 1.5, 2.0, 0.2, 0.05],\n",
    "                    'Hacim': [0.5, 0.2, 0.1, 1.0, 0.3, 0.4, 2.0, 3.0, 0.3, 0.1],\n",
    "                    'Önem Seviyesi': [5, 4, 3, 5, 2, 4, 4, 5, 3, 1]})"
   ]
  },
  {
   "cell_type": "code",
   "execution_count": 3,
   "id": "918c3e0b",
   "metadata": {},
   "outputs": [],
   "source": [
    "ağırlık_kısıtı = 3\n",
    "hacim_kısıtı = 5"
   ]
  },
  {
   "cell_type": "markdown",
   "id": "0ec3cd48",
   "metadata": {},
   "source": [
    "## Modelleme"
   ]
  },
  {
   "cell_type": "code",
   "execution_count": 4,
   "id": "c72b3554",
   "metadata": {},
   "outputs": [],
   "source": [
    "def popülasyon_secimi(popülasyon_boyutu, kromozom_uzunluğu):\n",
    "    \n",
    "    popülasyon = []\n",
    "    for _ in range(popülasyon_boyutu):\n",
    "        kromozom = [random.randint(0, 1) for _ in range(kromozom_uzunluğu)]\n",
    "        popülasyon.append(kromozom)\n",
    "        \n",
    "    return popülasyon"
   ]
  },
  {
   "cell_type": "code",
   "execution_count": 5,
   "id": "de78d2fb",
   "metadata": {},
   "outputs": [],
   "source": [
    "def uygunluk(en_iyi_kromozom):\n",
    "    \n",
    "    ağırlık_toplamı = np.sum(np.array(en_iyi_kromozom) * np.array(veri['Ağırlık']))\n",
    "    hacim_toplamı = np.sum(np.array(en_iyi_kromozom) * np.array(veri['Hacim']))\n",
    "    önem_toplamı = np.sum(np.array(en_iyi_kromozom) * np.array(veri['Önem Seviyesi']))\n",
    "    \n",
    "    uygunluk_skoru = hacim_toplamı + önem_toplamı\n",
    "    \n",
    "    if ağırlık_toplamı > ağırlık_kısıtı or hacim_toplamı > hacim_kısıtı:\n",
    "        uygunluk_skoru = 0\n",
    "    \n",
    "    return uygunluk_skoru"
   ]
  },
  {
   "cell_type": "code",
   "execution_count": 6,
   "id": "47e28e43",
   "metadata": {},
   "outputs": [],
   "source": [
    "def ebeveyn_secimi(popülasyon, uygunluk_değerleri, ebeveyn_sayısı):\n",
    "    \n",
    "    uygunluk_toplamı = sum(uygunluk_değerleri)\n",
    "    olasılıklar = [uygunluk / uygunluk_toplamı for uygunluk in uygunluk_değerleri]\n",
    "    ebeveynler = random.choices(popülasyon,\n",
    "                                weights=olasılıklar,\n",
    "                                k=ebeveyn_sayısı)\n",
    "    \n",
    "    return ebeveynler"
   ]
  },
  {
   "cell_type": "code",
   "execution_count": 7,
   "id": "a19c686d",
   "metadata": {},
   "outputs": [],
   "source": [
    "def çaprazlama(ebeveynler, çocuk_sayısı):\n",
    "    \n",
    "    çocuklar = []\n",
    "    for _ in range(çocuk_sayısı):\n",
    "        ebeveyn1, ebeveyn2 = random.sample(ebeveynler, k=2)\n",
    "        çocuk = []\n",
    "        for gen1, gen2 in zip(ebeveyn1, ebeveyn2):\n",
    "            rastgele = random.random()\n",
    "            if rastgele < 0.5:\n",
    "                çocuk.append(gen1)\n",
    "            else:\n",
    "                çocuk.append(gen2)\n",
    "        çocuklar.append(çocuk)\n",
    "        \n",
    "    return çocuklar"
   ]
  },
  {
   "cell_type": "code",
   "execution_count": 8,
   "id": "77e910de",
   "metadata": {},
   "outputs": [],
   "source": [
    "def mutasyon(çocuklar, mutasyon_olasılığı):\n",
    "    \n",
    "    for çocuk in çocuklar:\n",
    "        for i in range(len(çocuk)):\n",
    "            rastgele = random.random()\n",
    "            if rastgele < mutasyon_olasılığı:\n",
    "                çocuk[i] = 1 - çocuk[i]\n",
    "                \n",
    "    return çocuklar"
   ]
  },
  {
   "cell_type": "code",
   "execution_count": 9,
   "id": "dd2a9982",
   "metadata": {},
   "outputs": [],
   "source": [
    "def en_iyi_malzemeler(en_iyi_kromozom):\n",
    "    \n",
    "    malzemeler = [veri['Malzeme'][i] for i in range(len(en_iyi_kromozom)) if en_iyi_kromozom[i] == 1]\n",
    "    \n",
    "    return malzemeler"
   ]
  },
  {
   "cell_type": "code",
   "execution_count": 10,
   "id": "91d1151d",
   "metadata": {},
   "outputs": [],
   "source": [
    "popülasyon_boyutu = 50\n",
    "jenerasyon_sayısı = 100\n",
    "kromozom_uzunluğu = len(veri)"
   ]
  },
  {
   "cell_type": "code",
   "execution_count": 11,
   "id": "5a279ff1",
   "metadata": {},
   "outputs": [],
   "source": [
    "def genetik_algoritma(popülasyon_boyutu,\n",
    "                      kromozom_uzunluğu,\n",
    "                      jenerasyon_sayısı):\n",
    "    \n",
    "    popülasyon = popülasyon_secimi(popülasyon_boyutu,\n",
    "                                   kromozom_uzunluğu)\n",
    "    en_iyi_uygunluk = 0\n",
    "    en_iyi_kromozom = None\n",
    "    uygunluk_skorları = []\n",
    "    \n",
    "    for _ in range(jenerasyon_sayısı):\n",
    "        uygunluk_değerleri = [uygunluk(kromozom) for kromozom in popülasyon]\n",
    "        en_yüksek_uygunluk = max(uygunluk_değerleri)\n",
    "        en_yüksek_index = uygunluk_değerleri.index(en_yüksek_uygunluk)\n",
    "        \n",
    "        if en_yüksek_uygunluk > en_iyi_uygunluk:\n",
    "            en_iyi_uygunluk = en_yüksek_uygunluk\n",
    "            en_iyi_kromozom = popülasyon[en_yüksek_index]\n",
    "        \n",
    "        ebeveynler = ebeveyn_secimi(popülasyon,\n",
    "                                    uygunluk_değerleri,\n",
    "                                    ebeveyn_sayısı=2)\n",
    "        çocuklar = çaprazlama(ebeveynler,\n",
    "                              çocuk_sayısı=popülasyon_boyutu)\n",
    "        çocuklar = mutasyon(çocuklar,\n",
    "                            mutasyon_olasılığı=0.1)\n",
    "        popülasyon = çocuklar\n",
    "        \n",
    "        uygunluk_skorları.append(en_iyi_uygunluk)\n",
    "    \n",
    "    plt.plot(uygunluk_skorları)\n",
    "    plt.xlabel('jenerasyon')\n",
    "    plt.ylabel('Uygunluk Skoru')\n",
    "    plt.title('Genetik Algoritma Optimizasyonu')\n",
    "    plt.show()\n",
    "    \n",
    "    return en_iyi_kromozom"
   ]
  },
  {
   "cell_type": "code",
   "execution_count": 12,
   "id": "7b5d4724",
   "metadata": {},
   "outputs": [
    {
     "data": {
      "image/png": "[encoded data removed]",
      "text/plain": [
       "<Figure size 432x288 with 1 Axes>"
      ]
     },
     "metadata": {
      "needs_background": "light"
     },
     "output_type": "display_data"
    },
    {
     "name": "stdout",
     "output_type": "stream",
     "text": [
      "En İyi Malzemeler:\n",
      "İsviçre Çakısı\n",
      "El Feneri\n",
      "Pusula\n",
      "Su Arıtma Cihazı\n",
      "İlk Yardım Kiti\n",
      "Uyku Tulumu\n",
      "Çakmak\n",
      "En İyi Uygunluk Skoru: 30.3\n"
     ]
    }
   ],
   "source": [
    "en_iyi_kromozom = genetik_algoritma(popülasyon_boyutu,\n",
    "                                    kromozom_uzunluğu,\n",
    "                                    jenerasyon_sayısı)\n",
    "\n",
    "en_iyi_malzemeler_listesi = en_iyi_malzemeler(en_iyi_kromozom)\n",
    "\n",
    "print(\"En İyi Malzemeler:\")\n",
    "for malzeme in en_iyi_malzemeler_listesi:\n",
    "    print(malzeme)\n",
    "print(\"En İyi Uygunluk Skoru:\", uygunluk(en_iyi_kromozom))"
   ]
  },
  {
   "cell_type": "code",
   "execution_count": null,
   "id": "1630044a",
   "metadata": {},
   "outputs": [],
   "source": []
  }
 ],
 "metadata": {
  "kernelspec": {
   "display_name": "Python 3 (ipykernel)",
   "language": "python",
   "name": "python3"
  },
  "language_info": {
   "codemirror_mode": {
    "name": "ipython",
    "version": 3
   },
   "file_extension": ".py",
   "mimetype": "text/x-python",
   "name": "python",
   "nbconvert_exporter": "python",
   "pygments_lexer": "ipython3",
   "version": "3.9.7"
  }
 },
 "nbformat": 4,
 "nbformat_minor": 5
}
